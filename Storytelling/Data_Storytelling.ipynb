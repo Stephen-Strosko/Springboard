{
 "cells": [
  {
   "cell_type": "code",
   "execution_count": 1,
   "metadata": {},
   "outputs": [
    {
     "data": {
      "text/html": [
       "<style>body {\n",
       "    margin: 0;\n",
       "    font-family: Helvetica;\n",
       "}\n",
       "table.dataframe {\n",
       "    border-collapse: collapse;\n",
       "    border: none;\n",
       "}\n",
       "table.dataframe tr {\n",
       "    border: none;\n",
       "}\n",
       "table.dataframe td, table.dataframe th {\n",
       "    margin: 0;\n",
       "    border: 1px solid white;\n",
       "    padding-left: 0.25em;\n",
       "    padding-right: 0.25em;\n",
       "}\n",
       "table.dataframe th:not(:empty) {\n",
       "    background-color: #fec;\n",
       "    text-align: left;\n",
       "    font-weight: normal;\n",
       "}\n",
       "table.dataframe tr:nth-child(2) th:empty {\n",
       "    border-left: none;\n",
       "    border-right: 1px dashed #888;\n",
       "}\n",
       "table.dataframe td {\n",
       "    border: 2px solid #ccf;\n",
       "    background-color: #f4f4ff;\n",
       "}h3 {\n",
       "    color: white;\n",
       "    background-color: black;\n",
       "    padding: 0.5em;\n",
       "}</style>"
      ],
      "text/plain": [
       "<IPython.core.display.HTML object>"
      ]
     },
     "execution_count": 1,
     "metadata": {},
     "output_type": "execute_result"
    }
   ],
   "source": [
    "import pandas as pd\n",
    "import matplotlib.pyplot as plt\n",
    "from IPython.core.display import HTML\n",
    "css = open('style-table.css').read() + open('style-notebook.css').read()\n",
    "HTML('<style>{}</style>'.format(css))"
   ]
  },
  {
   "cell_type": "code",
   "execution_count": 2,
   "metadata": {
    "collapsed": true
   },
   "outputs": [],
   "source": [
    "import numpy as np\n",
    "from datetime import datetime"
   ]
  },
  {
   "cell_type": "code",
   "execution_count": 3,
   "metadata": {},
   "outputs": [
    {
     "name": "stderr",
     "output_type": "stream",
     "text": [
      "C:\\Users\\sstrosko\\AppData\\Local\\Continuum\\Miniconda3\\lib\\site-packages\\IPython\\core\\interactiveshell.py:2698: DtypeWarning: Columns (2,50,51) have mixed types. Specify dtype option on import or set low_memory=False.\n",
      "  interactivity=interactivity, compiler=compiler, result=result)\n"
     ]
    }
   ],
   "source": [
    "data = pd.read_csv(\"felix_hernandez.csv\")"
   ]
  },
  {
   "cell_type": "code",
   "execution_count": 4,
   "metadata": {},
   "outputs": [
    {
     "data": {
      "text/html": [
       "<div>\n",
       "<style>\n",
       "    .dataframe thead tr:only-child th {\n",
       "        text-align: right;\n",
       "    }\n",
       "\n",
       "    .dataframe thead th {\n",
       "        text-align: left;\n",
       "    }\n",
       "\n",
       "    .dataframe tbody tr th {\n",
       "        vertical-align: top;\n",
       "    }\n",
       "</style>\n",
       "<table border=\"1\" class=\"dataframe\">\n",
       "  <thead>\n",
       "    <tr style=\"text-align: right;\">\n",
       "      <th></th>\n",
       "      <th>pitch_type</th>\n",
       "      <th>game_date</th>\n",
       "      <th>release_speed</th>\n",
       "      <th>release_pos_x</th>\n",
       "      <th>release_pos_z</th>\n",
       "      <th>player_name</th>\n",
       "      <th>batter</th>\n",
       "      <th>pitcher</th>\n",
       "      <th>events</th>\n",
       "      <th>description</th>\n",
       "      <th>...</th>\n",
       "      <th>release_pos_y</th>\n",
       "      <th>estimated_ba_using_speedangle</th>\n",
       "      <th>estimated_woba_using_speedangle</th>\n",
       "      <th>woba_value</th>\n",
       "      <th>woba_denom</th>\n",
       "      <th>babip_value</th>\n",
       "      <th>iso_value</th>\n",
       "      <th>launch_speed_angle</th>\n",
       "      <th>at_bat_number</th>\n",
       "      <th>pitch_number</th>\n",
       "    </tr>\n",
       "  </thead>\n",
       "  <tbody>\n",
       "    <tr>\n",
       "      <th>0</th>\n",
       "      <td>CU</td>\n",
       "      <td>2017-09-14</td>\n",
       "      <td>80.7</td>\n",
       "      <td>-2.2586</td>\n",
       "      <td>6.1170</td>\n",
       "      <td>Felix Hernandez</td>\n",
       "      <td>608336</td>\n",
       "      <td>433587</td>\n",
       "      <td>double</td>\n",
       "      <td>hit_into_play_no_out</td>\n",
       "      <td>...</td>\n",
       "      <td>53.9856</td>\n",
       "      <td>0.803</td>\n",
       "      <td>1.184</td>\n",
       "      <td>1.25</td>\n",
       "      <td>1</td>\n",
       "      <td>1</td>\n",
       "      <td>1</td>\n",
       "      <td>6</td>\n",
       "      <td>33</td>\n",
       "      <td>6</td>\n",
       "    </tr>\n",
       "    <tr>\n",
       "      <th>1</th>\n",
       "      <td>CH</td>\n",
       "      <td>2017-09-14</td>\n",
       "      <td>86.2</td>\n",
       "      <td>-2.6494</td>\n",
       "      <td>6.0629</td>\n",
       "      <td>Felix Hernandez</td>\n",
       "      <td>608336</td>\n",
       "      <td>433587</td>\n",
       "      <td>null</td>\n",
       "      <td>ball</td>\n",
       "      <td>...</td>\n",
       "      <td>54.3916</td>\n",
       "      <td>0.000</td>\n",
       "      <td>0.000</td>\n",
       "      <td>null</td>\n",
       "      <td>null</td>\n",
       "      <td>null</td>\n",
       "      <td>null</td>\n",
       "      <td>null</td>\n",
       "      <td>33</td>\n",
       "      <td>5</td>\n",
       "    </tr>\n",
       "    <tr>\n",
       "      <th>2</th>\n",
       "      <td>CH</td>\n",
       "      <td>2017-09-14</td>\n",
       "      <td>87.8</td>\n",
       "      <td>-2.3620</td>\n",
       "      <td>5.8743</td>\n",
       "      <td>Felix Hernandez</td>\n",
       "      <td>608336</td>\n",
       "      <td>433587</td>\n",
       "      <td>null</td>\n",
       "      <td>ball</td>\n",
       "      <td>...</td>\n",
       "      <td>54.2151</td>\n",
       "      <td>0.000</td>\n",
       "      <td>0.000</td>\n",
       "      <td>null</td>\n",
       "      <td>null</td>\n",
       "      <td>null</td>\n",
       "      <td>null</td>\n",
       "      <td>null</td>\n",
       "      <td>33</td>\n",
       "      <td>4</td>\n",
       "    </tr>\n",
       "    <tr>\n",
       "      <th>3</th>\n",
       "      <td>CH</td>\n",
       "      <td>2017-09-14</td>\n",
       "      <td>86.1</td>\n",
       "      <td>-2.6921</td>\n",
       "      <td>5.7950</td>\n",
       "      <td>Felix Hernandez</td>\n",
       "      <td>608336</td>\n",
       "      <td>433587</td>\n",
       "      <td>null</td>\n",
       "      <td>foul</td>\n",
       "      <td>...</td>\n",
       "      <td>54.2372</td>\n",
       "      <td>0.000</td>\n",
       "      <td>0.000</td>\n",
       "      <td>null</td>\n",
       "      <td>null</td>\n",
       "      <td>null</td>\n",
       "      <td>null</td>\n",
       "      <td>1</td>\n",
       "      <td>33</td>\n",
       "      <td>3</td>\n",
       "    </tr>\n",
       "    <tr>\n",
       "      <th>4</th>\n",
       "      <td>CU</td>\n",
       "      <td>2017-09-14</td>\n",
       "      <td>80.8</td>\n",
       "      <td>-2.6114</td>\n",
       "      <td>6.1394</td>\n",
       "      <td>Felix Hernandez</td>\n",
       "      <td>608336</td>\n",
       "      <td>433587</td>\n",
       "      <td>null</td>\n",
       "      <td>swinging_strike</td>\n",
       "      <td>...</td>\n",
       "      <td>54.2401</td>\n",
       "      <td>0.000</td>\n",
       "      <td>0.000</td>\n",
       "      <td>null</td>\n",
       "      <td>null</td>\n",
       "      <td>null</td>\n",
       "      <td>null</td>\n",
       "      <td>null</td>\n",
       "      <td>33</td>\n",
       "      <td>2</td>\n",
       "    </tr>\n",
       "  </tbody>\n",
       "</table>\n",
       "<p>5 rows × 78 columns</p>\n",
       "</div>"
      ],
      "text/plain": [
       "  pitch_type   game_date release_speed release_pos_x release_pos_z  \\\n",
       "0         CU  2017-09-14          80.7       -2.2586        6.1170   \n",
       "1         CH  2017-09-14          86.2       -2.6494        6.0629   \n",
       "2         CH  2017-09-14          87.8       -2.3620        5.8743   \n",
       "3         CH  2017-09-14          86.1       -2.6921        5.7950   \n",
       "4         CU  2017-09-14          80.8       -2.6114        6.1394   \n",
       "\n",
       "       player_name  batter  pitcher  events           description  \\\n",
       "0  Felix Hernandez  608336   433587  double  hit_into_play_no_out   \n",
       "1  Felix Hernandez  608336   433587    null                  ball   \n",
       "2  Felix Hernandez  608336   433587    null                  ball   \n",
       "3  Felix Hernandez  608336   433587    null                  foul   \n",
       "4  Felix Hernandez  608336   433587    null       swinging_strike   \n",
       "\n",
       "      ...       release_pos_y  estimated_ba_using_speedangle  \\\n",
       "0     ...             53.9856                          0.803   \n",
       "1     ...             54.3916                          0.000   \n",
       "2     ...             54.2151                          0.000   \n",
       "3     ...             54.2372                          0.000   \n",
       "4     ...             54.2401                          0.000   \n",
       "\n",
       "   estimated_woba_using_speedangle  woba_value woba_denom babip_value  \\\n",
       "0                            1.184        1.25          1           1   \n",
       "1                            0.000        null       null        null   \n",
       "2                            0.000        null       null        null   \n",
       "3                            0.000        null       null        null   \n",
       "4                            0.000        null       null        null   \n",
       "\n",
       "  iso_value launch_speed_angle at_bat_number pitch_number  \n",
       "0         1                  6            33            6  \n",
       "1      null               null            33            5  \n",
       "2      null               null            33            4  \n",
       "3      null                  1            33            3  \n",
       "4      null               null            33            2  \n",
       "\n",
       "[5 rows x 78 columns]"
      ]
     },
     "execution_count": 4,
     "metadata": {},
     "output_type": "execute_result"
    }
   ],
   "source": [
    "data.head()"
   ]
  },
  {
   "cell_type": "code",
   "execution_count": 5,
   "metadata": {
    "collapsed": true
   },
   "outputs": [],
   "source": [
    "data['game_date'] = pd.to_datetime(data['game_date'])"
   ]
  },
  {
   "cell_type": "code",
   "execution_count": 6,
   "metadata": {
    "collapsed": true
   },
   "outputs": [],
   "source": [
    "data['release_speed'] = pd.to_numeric(data['release_speed'], errors='coerce')"
   ]
  },
  {
   "cell_type": "code",
   "execution_count": 7,
   "metadata": {
    "collapsed": true
   },
   "outputs": [],
   "source": [
    "data.loc[data['release_speed'] < 70, 'release_speed'] = np.NaN"
   ]
  },
  {
   "cell_type": "code",
   "execution_count": 8,
   "metadata": {},
   "outputs": [
    {
     "data": {
      "image/png": "[encoded data removed]",
      "text/plain": [
       "<matplotlib.figure.Figure at 0x9924d30>"
      ]
     },
     "metadata": {},
     "output_type": "display_data"
    }
   ],
   "source": [
    "plt.plot_date(data['game_date'], data['release_speed'])\n",
    "plt.title('Release Speed Over Time - Hernandez')\n",
    "plt.xlabel('Date')\n",
    "plt.ylabel('Speed (mph)')\n",
    "plt.show()"
   ]
  },
  {
   "cell_type": "code",
   "execution_count": 9,
   "metadata": {},
   "outputs": [
    {
     "data": {
      "text/plain": [
       "SI    8358\n",
       "FF    7369\n",
       "CH    5899\n",
       "CU    4213\n",
       "SL    3079\n",
       "FC     745\n",
       "Name: pitch_type, dtype: int64"
      ]
     },
     "execution_count": 9,
     "metadata": {},
     "output_type": "execute_result"
    }
   ],
   "source": [
    "data.loc[data['pitch_type'] == 'null'] = np.NaN\n",
    "data.loc[data['pitch_type'] == 'PO'] = np.NaN\n",
    "data.loc[data['pitch_type'] == 'IN'] = np.NaN\n",
    "data.loc[data['pitch_type'] == 'FA'] = np.NaN\n",
    "data.loc[data['pitch_type'] == 'UN'] = np.NaN\n",
    "data['pitch_type'].value_counts()"
   ]
  },
  {
   "cell_type": "code",
   "execution_count": 10,
   "metadata": {},
   "outputs": [
    {
     "data": {
      "image/png": "[encoded data removed]",
      "text/plain": [
       "<matplotlib.figure.Figure at 0x9924dd8>"
      ]
     },
     "metadata": {},
     "output_type": "display_data"
    }
   ],
   "source": [
    "#width = (2 / 3) / len(data['pitch_type'].columns)\n",
    "x_axis = ['SI', 'FF', 'CH', 'CU', 'SL', 'FC']\n",
    "bars = np.arange(len(x_axis))\n",
    "width = [8358, 7369, 5899, 4213, 3079, 745]\n",
    "plt.bar(bars, width)\n",
    "plt.xticks(bars, x_axis)\n",
    "plt.title('Hernandez Pitch Type Frequencies')\n",
    "plt.xlabel('Pitch Type')\n",
    "plt.ylabel('Pitch Amount')\n",
    "plt.show()"
   ]
  }
 ],
 "metadata": {
  "kernelspec": {
   "display_name": "Python 3",
   "language": "python",
   "name": "python3"
  },
  "language_info": {
   "codemirror_mode": {
    "name": "ipython",
    "version": 3
   },
   "file_extension": ".py",
   "mimetype": "text/x-python",
   "name": "python",
   "nbconvert_exporter": "python",
   "pygments_lexer": "ipython3",
   "version": "3.6.3"
  }
 },
 "nbformat": 4,
 "nbformat_minor": 2
}
